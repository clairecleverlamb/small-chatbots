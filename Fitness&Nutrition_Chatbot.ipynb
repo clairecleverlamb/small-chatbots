{
  "nbformat": 4,
  "nbformat_minor": 0,
  "metadata": {
    "colab": {
      "provenance": [],
      "authorship_tag": "ABX9TyMNprwm5V6ZzXfvBcKLHK4y",
      "include_colab_link": true
    },
    "kernelspec": {
      "name": "python3",
      "display_name": "Python 3"
    },
    "language_info": {
      "name": "python"
    }
  },
  "cells": [
    {
      "cell_type": "markdown",
      "metadata": {
        "id": "view-in-github",
        "colab_type": "text"
      },
      "source": [
        "<a href=\"https://colab.research.google.com/github/clairecleverlamb/smart-chatbots/blob/main/Fitness%26Nutrition_Chatbot.ipynb\" target=\"_parent\"><img src=\"https://colab.research.google.com/assets/colab-badge.svg\" alt=\"Open In Colab\"/></a>"
      ]
    },
    {
      "cell_type": "code",
      "source": [
        "!pip install gradio transformers torch numpy requests matplotlib\n"
      ],
      "metadata": {
        "colab": {
          "base_uri": "https://localhost:8080/"
        },
        "id": "So49tSNGJPlt",
        "outputId": "b875fec4-fd6e-42d7-fa24-c3cc3c503d0b"
      },
      "execution_count": null,
      "outputs": [
        {
          "output_type": "stream",
          "name": "stdout",
          "text": [
            "Requirement already satisfied: gradio in /usr/local/lib/python3.11/dist-packages (5.22.0)\n",
            "Requirement already satisfied: transformers in /usr/local/lib/python3.11/dist-packages (4.49.0)\n",
            "Requirement already satisfied: torch in /usr/local/lib/python3.11/dist-packages (2.6.0+cu124)\n",
            "Requirement already satisfied: numpy in /usr/local/lib/python3.11/dist-packages (2.0.2)\n",
            "Requirement already satisfied: requests in /usr/local/lib/python3.11/dist-packages (2.32.3)\n",
            "Requirement already satisfied: matplotlib in /usr/local/lib/python3.11/dist-packages (3.10.0)\n",
            "Requirement already satisfied: aiofiles<24.0,>=22.0 in /usr/local/lib/python3.11/dist-packages (from gradio) (23.2.1)\n",
            "Requirement already satisfied: anyio<5.0,>=3.0 in /usr/local/lib/python3.11/dist-packages (from gradio) (4.9.0)\n",
            "Requirement already satisfied: fastapi<1.0,>=0.115.2 in /usr/local/lib/python3.11/dist-packages (from gradio) (0.115.11)\n",
            "Requirement already satisfied: ffmpy in /usr/local/lib/python3.11/dist-packages (from gradio) (0.5.0)\n",
            "Requirement already satisfied: gradio-client==1.8.0 in /usr/local/lib/python3.11/dist-packages (from gradio) (1.8.0)\n",
            "Requirement already satisfied: groovy~=0.1 in /usr/local/lib/python3.11/dist-packages (from gradio) (0.1.2)\n",
            "Requirement already satisfied: httpx>=0.24.1 in /usr/local/lib/python3.11/dist-packages (from gradio) (0.28.1)\n",
            "Requirement already satisfied: huggingface-hub>=0.28.1 in /usr/local/lib/python3.11/dist-packages (from gradio) (0.29.3)\n",
            "Requirement already satisfied: jinja2<4.0 in /usr/local/lib/python3.11/dist-packages (from gradio) (3.1.6)\n",
            "Requirement already satisfied: markupsafe<4.0,>=2.0 in /usr/local/lib/python3.11/dist-packages (from gradio) (3.0.2)\n",
            "Requirement already satisfied: orjson~=3.0 in /usr/local/lib/python3.11/dist-packages (from gradio) (3.10.15)\n",
            "Requirement already satisfied: packaging in /usr/local/lib/python3.11/dist-packages (from gradio) (24.2)\n",
            "Requirement already satisfied: pandas<3.0,>=1.0 in /usr/local/lib/python3.11/dist-packages (from gradio) (2.2.2)\n",
            "Requirement already satisfied: pillow<12.0,>=8.0 in /usr/local/lib/python3.11/dist-packages (from gradio) (11.1.0)\n",
            "Requirement already satisfied: pydantic>=2.0 in /usr/local/lib/python3.11/dist-packages (from gradio) (2.10.6)\n",
            "Requirement already satisfied: pydub in /usr/local/lib/python3.11/dist-packages (from gradio) (0.25.1)\n",
            "Requirement already satisfied: python-multipart>=0.0.18 in /usr/local/lib/python3.11/dist-packages (from gradio) (0.0.20)\n",
            "Requirement already satisfied: pyyaml<7.0,>=5.0 in /usr/local/lib/python3.11/dist-packages (from gradio) (6.0.2)\n",
            "Requirement already satisfied: ruff>=0.9.3 in /usr/local/lib/python3.11/dist-packages (from gradio) (0.11.2)\n",
            "Requirement already satisfied: safehttpx<0.2.0,>=0.1.6 in /usr/local/lib/python3.11/dist-packages (from gradio) (0.1.6)\n",
            "Requirement already satisfied: semantic-version~=2.0 in /usr/local/lib/python3.11/dist-packages (from gradio) (2.10.0)\n",
            "Requirement already satisfied: starlette<1.0,>=0.40.0 in /usr/local/lib/python3.11/dist-packages (from gradio) (0.46.1)\n",
            "Requirement already satisfied: tomlkit<0.14.0,>=0.12.0 in /usr/local/lib/python3.11/dist-packages (from gradio) (0.13.2)\n",
            "Requirement already satisfied: typer<1.0,>=0.12 in /usr/local/lib/python3.11/dist-packages (from gradio) (0.15.2)\n",
            "Requirement already satisfied: typing-extensions~=4.0 in /usr/local/lib/python3.11/dist-packages (from gradio) (4.12.2)\n",
            "Requirement already satisfied: uvicorn>=0.14.0 in /usr/local/lib/python3.11/dist-packages (from gradio) (0.34.0)\n",
            "Requirement already satisfied: fsspec in /usr/local/lib/python3.11/dist-packages (from gradio-client==1.8.0->gradio) (2025.3.0)\n",
            "Requirement already satisfied: websockets<16.0,>=10.0 in /usr/local/lib/python3.11/dist-packages (from gradio-client==1.8.0->gradio) (14.2)\n",
            "Requirement already satisfied: filelock in /usr/local/lib/python3.11/dist-packages (from transformers) (3.18.0)\n",
            "Requirement already satisfied: regex!=2019.12.17 in /usr/local/lib/python3.11/dist-packages (from transformers) (2024.11.6)\n",
            "Requirement already satisfied: tokenizers<0.22,>=0.21 in /usr/local/lib/python3.11/dist-packages (from transformers) (0.21.1)\n",
            "Requirement already satisfied: safetensors>=0.4.1 in /usr/local/lib/python3.11/dist-packages (from transformers) (0.5.3)\n",
            "Requirement already satisfied: tqdm>=4.27 in /usr/local/lib/python3.11/dist-packages (from transformers) (4.67.1)\n",
            "Requirement already satisfied: networkx in /usr/local/lib/python3.11/dist-packages (from torch) (3.4.2)\n",
            "Requirement already satisfied: nvidia-cuda-nvrtc-cu12==12.4.127 in /usr/local/lib/python3.11/dist-packages (from torch) (12.4.127)\n",
            "Requirement already satisfied: nvidia-cuda-runtime-cu12==12.4.127 in /usr/local/lib/python3.11/dist-packages (from torch) (12.4.127)\n",
            "Requirement already satisfied: nvidia-cuda-cupti-cu12==12.4.127 in /usr/local/lib/python3.11/dist-packages (from torch) (12.4.127)\n",
            "Requirement already satisfied: nvidia-cudnn-cu12==9.1.0.70 in /usr/local/lib/python3.11/dist-packages (from torch) (9.1.0.70)\n",
            "Requirement already satisfied: nvidia-cublas-cu12==12.4.5.8 in /usr/local/lib/python3.11/dist-packages (from torch) (12.4.5.8)\n",
            "Requirement already satisfied: nvidia-cufft-cu12==11.2.1.3 in /usr/local/lib/python3.11/dist-packages (from torch) (11.2.1.3)\n",
            "Requirement already satisfied: nvidia-curand-cu12==10.3.5.147 in /usr/local/lib/python3.11/dist-packages (from torch) (10.3.5.147)\n",
            "Requirement already satisfied: nvidia-cusolver-cu12==11.6.1.9 in /usr/local/lib/python3.11/dist-packages (from torch) (11.6.1.9)\n",
            "Requirement already satisfied: nvidia-cusparse-cu12==12.3.1.170 in /usr/local/lib/python3.11/dist-packages (from torch) (12.3.1.170)\n",
            "Requirement already satisfied: nvidia-cusparselt-cu12==0.6.2 in /usr/local/lib/python3.11/dist-packages (from torch) (0.6.2)\n",
            "Requirement already satisfied: nvidia-nccl-cu12==2.21.5 in /usr/local/lib/python3.11/dist-packages (from torch) (2.21.5)\n",
            "Requirement already satisfied: nvidia-nvtx-cu12==12.4.127 in /usr/local/lib/python3.11/dist-packages (from torch) (12.4.127)\n",
            "Requirement already satisfied: nvidia-nvjitlink-cu12==12.4.127 in /usr/local/lib/python3.11/dist-packages (from torch) (12.4.127)\n",
            "Requirement already satisfied: triton==3.2.0 in /usr/local/lib/python3.11/dist-packages (from torch) (3.2.0)\n",
            "Requirement already satisfied: sympy==1.13.1 in /usr/local/lib/python3.11/dist-packages (from torch) (1.13.1)\n",
            "Requirement already satisfied: mpmath<1.4,>=1.1.0 in /usr/local/lib/python3.11/dist-packages (from sympy==1.13.1->torch) (1.3.0)\n",
            "Requirement already satisfied: charset-normalizer<4,>=2 in /usr/local/lib/python3.11/dist-packages (from requests) (3.4.1)\n",
            "Requirement already satisfied: idna<4,>=2.5 in /usr/local/lib/python3.11/dist-packages (from requests) (3.10)\n",
            "Requirement already satisfied: urllib3<3,>=1.21.1 in /usr/local/lib/python3.11/dist-packages (from requests) (2.3.0)\n",
            "Requirement already satisfied: certifi>=2017.4.17 in /usr/local/lib/python3.11/dist-packages (from requests) (2025.1.31)\n",
            "Requirement already satisfied: contourpy>=1.0.1 in /usr/local/lib/python3.11/dist-packages (from matplotlib) (1.3.1)\n",
            "Requirement already satisfied: cycler>=0.10 in /usr/local/lib/python3.11/dist-packages (from matplotlib) (0.12.1)\n",
            "Requirement already satisfied: fonttools>=4.22.0 in /usr/local/lib/python3.11/dist-packages (from matplotlib) (4.56.0)\n",
            "Requirement already satisfied: kiwisolver>=1.3.1 in /usr/local/lib/python3.11/dist-packages (from matplotlib) (1.4.8)\n",
            "Requirement already satisfied: pyparsing>=2.3.1 in /usr/local/lib/python3.11/dist-packages (from matplotlib) (3.2.1)\n",
            "Requirement already satisfied: python-dateutil>=2.7 in /usr/local/lib/python3.11/dist-packages (from matplotlib) (2.8.2)\n",
            "Requirement already satisfied: sniffio>=1.1 in /usr/local/lib/python3.11/dist-packages (from anyio<5.0,>=3.0->gradio) (1.3.1)\n",
            "Requirement already satisfied: httpcore==1.* in /usr/local/lib/python3.11/dist-packages (from httpx>=0.24.1->gradio) (1.0.7)\n",
            "Requirement already satisfied: h11<0.15,>=0.13 in /usr/local/lib/python3.11/dist-packages (from httpcore==1.*->httpx>=0.24.1->gradio) (0.14.0)\n",
            "Requirement already satisfied: pytz>=2020.1 in /usr/local/lib/python3.11/dist-packages (from pandas<3.0,>=1.0->gradio) (2025.1)\n",
            "Requirement already satisfied: tzdata>=2022.7 in /usr/local/lib/python3.11/dist-packages (from pandas<3.0,>=1.0->gradio) (2025.1)\n",
            "Requirement already satisfied: annotated-types>=0.6.0 in /usr/local/lib/python3.11/dist-packages (from pydantic>=2.0->gradio) (0.7.0)\n",
            "Requirement already satisfied: pydantic-core==2.27.2 in /usr/local/lib/python3.11/dist-packages (from pydantic>=2.0->gradio) (2.27.2)\n",
            "Requirement already satisfied: six>=1.5 in /usr/local/lib/python3.11/dist-packages (from python-dateutil>=2.7->matplotlib) (1.17.0)\n",
            "Requirement already satisfied: click>=8.0.0 in /usr/local/lib/python3.11/dist-packages (from typer<1.0,>=0.12->gradio) (8.1.8)\n",
            "Requirement already satisfied: shellingham>=1.3.0 in /usr/local/lib/python3.11/dist-packages (from typer<1.0,>=0.12->gradio) (1.5.4)\n",
            "Requirement already satisfied: rich>=10.11.0 in /usr/local/lib/python3.11/dist-packages (from typer<1.0,>=0.12->gradio) (13.9.4)\n",
            "Requirement already satisfied: markdown-it-py>=2.2.0 in /usr/local/lib/python3.11/dist-packages (from rich>=10.11.0->typer<1.0,>=0.12->gradio) (3.0.0)\n",
            "Requirement already satisfied: pygments<3.0.0,>=2.13.0 in /usr/local/lib/python3.11/dist-packages (from rich>=10.11.0->typer<1.0,>=0.12->gradio) (2.18.0)\n",
            "Requirement already satisfied: mdurl~=0.1 in /usr/local/lib/python3.11/dist-packages (from markdown-it-py>=2.2.0->rich>=10.11.0->typer<1.0,>=0.12->gradio) (0.1.2)\n"
          ]
        }
      ]
    },
    {
      "cell_type": "code",
      "source": [
        "import gradio as gr\n",
        "import numpy as np\n",
        "import requests\n",
        "import random  # You missed this import for random.choice\n",
        "import matplotlib.pyplot as plt\n",
        "from transformers import pipeline\n",
        "\n",
        "# Load NLP Model\n",
        "classifier = pipeline(\"zero-shot-classification\", model=\"facebook/bart-large-mnli\")\n",
        "\n",
        "# Intent categories\n",
        "CANDIDATE_LABELS = [\"greeting\", \"workout_request\", \"meal_plan_request\", \"motivation\", \"set_goal\", \"track_progress\", \"calorie_calculation\", \"out_of_scope\"]\n",
        "\n",
        "# User state\n",
        "user_state = {\"goal\": None, \"diet\": None, \"calories\": None, \"progress\": [], \"workouts\": [], \"meals\": []}\n"
      ],
      "metadata": {
        "colab": {
          "base_uri": "https://localhost:8080/"
        },
        "id": "ATlMGWwXRYjk",
        "outputId": "16f24957-abb1-4a90-b337-8dc8daaffa67"
      },
      "execution_count": null,
      "outputs": [
        {
          "output_type": "stream",
          "name": "stderr",
          "text": [
            "Device set to use cpu\n"
          ]
        }
      ]
    },
    {
      "cell_type": "code",
      "source": [
        "def fetch_random_workout():\n",
        "    \"\"\"Fetch a random workout from Wger API.\"\"\"\n",
        "    url = \"https://wger.de/api/v2/exercise/?limit=10\"  # Get 10 workouts\n",
        "\n",
        "    try:\n",
        "        response = requests.get(url)\n",
        "        response.raise_for_status()\n",
        "        data = response.json()\n",
        "\n",
        "        # Print the raw data for debugging\n",
        "        print(\"API Response:\", data)\n",
        "\n",
        "        if \"results\" in data and len(data[\"results\"]) > 0:\n",
        "            workout = random.choice(data[\"results\"])\n",
        "\n",
        "            # Get workout details from the response\n",
        "            workout_id = workout.get(\"id\", \"Unknown ID\")\n",
        "            category = workout.get(\"category\", \"Unknown Category\")\n",
        "            equipment = workout.get(\"equipment\", \"No equipment info\")\n",
        "\n",
        "            # Use a placeholder description if not available\n",
        "            description = workout.get(\"description\", \"No description available.\")\n",
        "\n",
        "            # Fallback description based on category and equipment\n",
        "            if description == \"No description available.\":\n",
        "                description = f\"Category: {category}, Equipment: {', '.join(map(str, equipment)) if equipment else 'None'}\"\n",
        "\n",
        "            return f\"🏋️ Try this workout (ID: {workout_id}, Category: {category}):\\n\\n📖 {description}\"\n",
        "        else:\n",
        "            return \"No workouts available right now.\"\n",
        "\n",
        "    except requests.exceptions.RequestException as e:\n",
        "        return f\"❌ Error fetching workout: {str(e)}\"\n"
      ],
      "metadata": {
        "id": "xzlkXdNlJTne"
      },
      "execution_count": null,
      "outputs": []
    },
    {
      "cell_type": "code",
      "source": [
        "def fetch_meal_plan():\n",
        "    \"\"\"Fetch a meal plan from an API.\"\"\"\n",
        "    api_key = \"a461777ee5f844c8af95db4f81bbb613\"\n",
        "    url = f\"https://api.spoonacular.com/mealplanner/generate?apiKey={api_key}\"\n",
        "\n",
        "    response = requests.get(url)\n",
        "\n",
        "    if response.status_code == 200:\n",
        "        # Parsing the JSON data from the API response\n",
        "        data = response.json()\n",
        "\n",
        "        # Extracting the first meal's title (you can modify this based on your needs)\n",
        "        return data[\"meals\"][0][\"title\"]\n",
        "\n",
        "    return \"Grilled chicken with vegetables.\""
      ],
      "metadata": {
        "id": "XYlMpohvO9ny"
      },
      "execution_count": null,
      "outputs": []
    },
    {
      "cell_type": "code",
      "source": [
        "\n",
        "def fitness_chat(user_input: str, state: dict):\n",
        "    if state is None:\n",
        "        state = {\"goal\": None, \"diet\": None, \"calories\": None, \"progress\": [], \"workouts\": [], \"meals\": []}\n",
        "\n",
        "    text = user_input.lower()\n",
        "    result = classifier(text, CANDIDATE_LABELS)\n",
        "    top_label, top_score = result[\"labels\"][0], result[\"scores\"][0]\n",
        "\n",
        "    # Print the classifier results for debugging\n",
        "    print(f\"Classifier Result: {result}\")\n",
        "    print(f\"Top Label: {top_label}, Top Score: {top_score}\")\n",
        "\n",
        "    if top_score < 0.7 or top_label == \"out_of_scope\":\n",
        "        user_message = {\"role\": \"user\", \"content\": user_input}\n",
        "        bot_message = {\"role\": \"assistant\", \"content\": \"I’m not sure about that. Can you rephrase?\"}\n",
        "        return [user_message, bot_message], state\n",
        "\n",
        "    if top_label == \"greeting\":\n",
        "        user_message = {\"role\": \"user\", \"content\": user_input}\n",
        "        bot_message = {\"role\": \"assistant\", \"content\": \"Hi! Are you looking for workouts, meal plans, or calorie info?\"}\n",
        "        return [user_message, bot_message], state\n",
        "\n",
        "    elif top_label == \"workout_request\":\n",
        "        workout = fetch_random_workout()\n",
        "        state[\"workouts\"].append(workout)\n",
        "        user_message = {\"role\": \"user\", \"content\": user_input}\n",
        "        bot_message = {\"role\": \"assistant\", \"content\": f\"Here's a workout suggestion: {workout}\"}\n",
        "        return [user_message, bot_message], state\n",
        "\n",
        "    elif top_label == \"meal_plan_request\":\n",
        "        meal = fetch_meal_plan()\n",
        "        state[\"meals\"].append(meal)\n",
        "        user_message = {\"role\": \"user\", \"content\": user_input}\n",
        "        bot_message = {\"role\": \"assistant\", \"content\": f\"Try this meal: {meal}\"}\n",
        "        return [user_message, bot_message], state\n",
        "\n",
        "    elif top_label == \"motivation\":\n",
        "        user_message = {\"role\": \"user\", \"content\": user_input}\n",
        "        bot_message = {\"role\": \"assistant\", \"content\": \"You're doing great! Stay consistent and trust the process. 💪\"}\n",
        "        return [user_message, bot_message], state\n",
        "\n",
        "    elif top_label == \"set_goal\":\n",
        "        state[\"goal\"] = text\n",
        "        user_message = {\"role\": \"user\", \"content\": user_input}\n",
        "        bot_message = {\"role\": \"assistant\", \"content\": f\"Goal set! You’re aiming for: {text}. Keep it up!\"}\n",
        "        return [user_message, bot_message], state\n",
        "\n",
        "    elif top_label == \"track_progress\":\n",
        "        state[\"progress\"].append(text)\n",
        "        user_message = {\"role\": \"user\", \"content\": user_input}\n",
        "        bot_message = {\"role\": \"assistant\", \"content\": f\"Progress logged: {text}. Keep pushing! 🚀\"}\n",
        "        return [user_message, bot_message], state\n",
        "\n",
        "    elif top_label == \"calorie_calculation\":\n",
        "        user_message = {\"role\": \"user\", \"content\": user_input}\n",
        "        bot_message = {\"role\": \"assistant\", \"content\": \"Please provide your weight (kg), height (cm), and age.\"}\n",
        "        return [user_message, bot_message], state\n",
        "\n",
        "    # Default response if no specific label matches\n",
        "    user_message = {\"role\": \"user\", \"content\": user_input}\n",
        "    bot_message = {\"role\": \"assistant\", \"content\": \"I'm here to help! Ask me about workouts, meals, or tracking progress.\"}\n",
        "    return [user_message, bot_message], state\n"
      ],
      "metadata": {
        "id": "TkMOJz9FPhNq"
      },
      "execution_count": null,
      "outputs": []
    },
    {
      "cell_type": "code",
      "source": [
        "def calculate_calories(user_input, state):\n",
        "    try:\n",
        "        weight, height, age = map(float, user_input.split())\n",
        "        bmr = 10 * weight + 6.25 * height - 5 * age + 5\n",
        "        daily_calories = bmr * 1.55\n",
        "        state[\"calories\"] = daily_calories\n",
        "        return f\"Your estimated daily caloric need is {int(daily_calories)} kcal.\", state\n",
        "    except:\n",
        "        return \"Enter weight (kg), height (cm), and age (e.g., '70 175 25').\", state"
      ],
      "metadata": {
        "id": "SGdSbFz-JW0O"
      },
      "execution_count": null,
      "outputs": []
    },
    {
      "cell_type": "code",
      "source": [
        "def plot_progress(state):\n",
        "    labels = [\"Workouts\", \"Meals Logged\", \"Progress Updates\"]\n",
        "    values = [len(state[\"workouts\"]), len(state[\"meals\"]), len(state[\"progress\"])]\n",
        "\n",
        "    fig, ax = plt.subplots()\n",
        "    ax.bar(labels, values, color=['blue', 'green', 'orange'])\n",
        "    ax.set_title(\"Your Fitness Progress\")\n",
        "    ax.set_ylabel(\"Entries Logged\")\n",
        "    return fig\n"
      ],
      "metadata": {
        "id": "yQ2QbdcfJYS_"
      },
      "execution_count": null,
      "outputs": []
    },
    {
      "cell_type": "code",
      "source": [
        "# Gradio interface\n",
        "with gr.Blocks() as demo:\n",
        "    gr.Markdown(\"# 🏋️‍♂️ Fitness Chatbot + Progress Dashboard\")\n",
        "\n",
        "    chatbot = gr.Chatbot(type=\"messages\")\n",
        "    state = gr.State({\"goal\": None, \"diet\": None, \"calories\": None, \"progress\": [], \"workouts\": [], \"meals\": []})\n",
        "\n",
        "    txt = gr.Textbox(show_label=False, placeholder=\"Type or speak your question.\")\n",
        "\n",
        "    # Fix for gr.Audio (remove 'source' parameter)\n",
        "    mic = gr.Audio(sources=[\"microphone\"], type=\"numpy\")\n",
        "\n",
        "    btn_dashboard = gr.Button(\"Show Progress\")\n",
        "\n",
        "    txt.submit(fitness_chat, inputs=[txt, state], outputs=[chatbot, state])\n",
        "    mic.change(fitness_chat, inputs=[mic, state], outputs=[chatbot, state])\n",
        "\n",
        "    # Plot component for progress\n",
        "    plot = gr.Plot()  # Define a plot component\n",
        "    btn_dashboard.click(plot_progress, inputs=[state], outputs=plot)\n",
        "\n",
        "demo.launch()"
      ],
      "metadata": {
        "colab": {
          "base_uri": "https://localhost:8080/",
          "height": 648
        },
        "id": "re3SE9e8VYqo",
        "outputId": "424d94bf-49c4-4af1-f93c-a83254eefd0d"
      },
      "execution_count": null,
      "outputs": [
        {
          "output_type": "stream",
          "name": "stdout",
          "text": [
            "Running Gradio in a Colab notebook requires sharing enabled. Automatically setting `share=True` (you can turn this off by setting `share=False` in `launch()` explicitly).\n",
            "\n",
            "Colab notebook detected. To show errors in colab notebook, set debug=True in launch()\n",
            "* Running on public URL: https://3c576bccc11c6ac21f.gradio.live\n",
            "\n",
            "This share link expires in 72 hours. For free permanent hosting and GPU upgrades, run `gradio deploy` from the terminal in the working directory to deploy to Hugging Face Spaces (https://huggingface.co/spaces)\n"
          ]
        },
        {
          "output_type": "display_data",
          "data": {
            "text/plain": [
              "<IPython.core.display.HTML object>"
            ],
            "text/html": [
              "<div><iframe src=\"https://3c576bccc11c6ac21f.gradio.live\" width=\"100%\" height=\"500\" allow=\"autoplay; camera; microphone; clipboard-read; clipboard-write;\" frameborder=\"0\" allowfullscreen></iframe></div>"
            ]
          },
          "metadata": {}
        },
        {
          "output_type": "execute_result",
          "data": {
            "text/plain": []
          },
          "metadata": {},
          "execution_count": 71
        }
      ]
    }
  ]
}